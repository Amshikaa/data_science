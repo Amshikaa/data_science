{
 "cells": [
  {
   "cell_type": "code",
   "execution_count": 4,
   "id": "42c88fd4",
   "metadata": {},
   "outputs": [
    {
     "name": "stdout",
     "output_type": "stream",
     "text": [
      "Enter the number of element to the list:4\n",
      "Enter the elements:10\n",
      "Enter the elements:20\n",
      "Enter the elements:30\n",
      "Enter the elements:40\n",
      "Mean: 25.0\n"
     ]
    }
   ],
   "source": [
    "#Mean program without using libraries\n",
    "list1=[]\n",
    "n= int(input(\"Enter the number of element to the list:\"))\n",
    "for i in range(n):\n",
    "    list1.append(int(input(\"Enter the elements:\")))\n",
    "mean =sum(list1)/len(list1)\n",
    "print(\"Mean:\",mean)"
   ]
  },
  {
   "cell_type": "code",
   "execution_count": 6,
   "id": "e02899d5",
   "metadata": {},
   "outputs": [
    {
     "name": "stdout",
     "output_type": "stream",
     "text": [
      "Enter the number of element to the list:4\n",
      "Enter the elements:10\n",
      "Enter the elements:20\n",
      "Enter the elements:30\n",
      "Enter the elements:40\n",
      "The numbers are: [10, 20, 30, 40]\n",
      "Mean: 25.0\n"
     ]
    }
   ],
   "source": [
    "#Mean program without using built-in functions\n",
    "list1=[]\n",
    "n= int(input(\"Enter the number of element to the list:\"))\n",
    "for i in range(n):\n",
    "    list1.append(int(input(\"Enter the elements:\")))\n",
    "total=0\n",
    "for ele in list1:\n",
    "    total+=ele\n",
    "mean =total/n\n",
    "print(\"The numbers are:\",list1)\n",
    "print(\"Mean:\",mean)"
   ]
  },
  {
   "cell_type": "code",
   "execution_count": 18,
   "id": "0147987c",
   "metadata": {},
   "outputs": [
    {
     "name": "stdout",
     "output_type": "stream",
     "text": [
      "Enter the size:6\n",
      "[0 1 2 3 4 5]\n",
      "\n",
      "Mean:  2.5\n"
     ]
    }
   ],
   "source": [
    "#Mean program using libraries\n",
    "import numpy as np\n",
    "n=int(input(\"Enter the size:\"))\n",
    "for i in range(n):\n",
    "    array = np.arange(n)\n",
    "print(array)\n",
    "r1 = np.mean(array)\n",
    "print(\"\\nMean: \", r1)"
   ]
  },
  {
   "cell_type": "code",
   "execution_count": 13,
   "id": "dac3ff73",
   "metadata": {},
   "outputs": [
    {
     "name": "stdout",
     "output_type": "stream",
     "text": [
      "Enter the size of the list:5\n",
      "Enter the elements to the list:1\n",
      "Enter the elements to the list:2\n",
      "Enter the elements to the list:3\n",
      "Enter the elements to the list:4\n",
      "Enter the elements to the list:5\n",
      "Median is: 3\n"
     ]
    }
   ],
   "source": [
    "#Median program\n",
    "size=int(input(\"Enter the size of the list:\"))\n",
    "list2 =[]\n",
    "for i in range(size):\n",
    "    list2.append(int(input(\"Enter the elements to the list:\")))\n",
    "n = len(list2) \n",
    "list2.sort() \n",
    "if n % 2 == 0: \n",
    "    median1 = list2[n//2] \n",
    "    median2 = list2[n//2 - 1] \n",
    "    median = (median1 + median2)/2\n",
    "else: \n",
    "    median =list2[n//2] \n",
    "print(\"Median is: \" + str(median))"
   ]
  },
  {
   "cell_type": "code",
   "execution_count": 20,
   "id": "26a36092",
   "metadata": {},
   "outputs": [
    {
     "name": "stdout",
     "output_type": "stream",
     "text": [
      "Enter the size of the list:5\n",
      "Enter the elements to the list:10\n",
      "Enter the elements to the list:20\n",
      "Enter the elements to the list:30\n",
      "Enter the elements to the list:40\n",
      "Enter the elements to the list:50\n",
      "List elements are: [10, 20, 30, 40, 50]\n",
      "Median is:  30.0\n"
     ]
    }
   ],
   "source": [
    "#Median program\n",
    "import numpy as np\n",
    "list2 =[]\n",
    "n=int(input(\"Enter the size of the list:\"))\n",
    "for i in range(n):\n",
    "    list2.append(int(input(\"Enter the elements to the list:\")))\n",
    "print(\"List elements are:\",list2)\n",
    "median=np.median(list2)\n",
    "print(\"Median is: \",median)"
   ]
  },
  {
   "cell_type": "code",
   "execution_count": 37,
   "id": "63a29a0d",
   "metadata": {},
   "outputs": [
    {
     "name": "stdout",
     "output_type": "stream",
     "text": [
      "Mode is / are: 1, 3, 4\n"
     ]
    }
   ],
   "source": [
    "#Mode program\n",
    "from collections import Counter  \n",
    "n_num = [1, 1,2,3,3,4,4] \n",
    "n = len(n_num) \n",
    "data = Counter(n_num)  \n",
    "get_mode = dict(data) \n",
    "mode = [k for k, v in get_mode.items() if v == max(list(data.values()))] \n",
    "if len(mode) == n: \n",
    "    get_mode = \"No mode found\"\n",
    "else: \n",
    "    get_mode = \"Mode is / are: \" + ', '.join(map(str, mode))     \n",
    "print(get_mode)"
   ]
  },
  {
   "cell_type": "code",
   "execution_count": 29,
   "id": "77c86368",
   "metadata": {},
   "outputs": [
    {
     "name": "stdout",
     "output_type": "stream",
     "text": [
      "Enter the number of element to the list:5\n",
      "Enter the elements:1\n",
      "Enter the elements:1\n",
      "Enter the elements:2\n",
      "Enter the elements:3\n",
      "Enter the elements:3\n",
      "3\n"
     ]
    }
   ],
   "source": [
    "#Mode program\n",
    "list1=[]\n",
    "n= int(input(\"Enter the number of element to the list:\"))\n",
    "for i in range(n):\n",
    "    list1.append(int(input(\"Enter the elements:\")))\n",
    "frequency = {}\n",
    "for i in list1:\n",
    "    frequency.setdefault(i, 0)\n",
    "    frequency[i]+=1\n",
    "\n",
    "frequent = max(frequency.values())\n",
    "for i, j in frequency.items():\n",
    "    if j == frequent:\n",
    "        mode = i\n",
    "print(mode)"
   ]
  },
  {
   "cell_type": "code",
   "execution_count": 27,
   "id": "f712c442",
   "metadata": {},
   "outputs": [
    {
     "name": "stdout",
     "output_type": "stream",
     "text": [
      "Enter the number of element to the list:5\n",
      "Enter the elements:1\n",
      "Enter the elements:1\n",
      "Enter the elements:1\n",
      "Enter the elements:1\n",
      "Enter the elements:5\n",
      "The list is: [1, 1, 1, 1, 5]\n",
      "Mode is: ModeResult(mode=1, count=4)\n"
     ]
    }
   ],
   "source": [
    "#Mode program using built-in function\n",
    "from scipy import stats\n",
    "list1=[]\n",
    "n= int(input(\"Enter the number of element to the list:\"))\n",
    "for i in range(n):\n",
    "    list1.append(int(input(\"Enter the elements:\")))\n",
    "x = stats.mode(list1)\n",
    "print(\"The list is:\",list1)\n",
    "print(\"Mode is:\",x)"
   ]
  },
  {
   "cell_type": "code",
   "execution_count": 36,
   "id": "3be30b1c",
   "metadata": {},
   "outputs": [
    {
     "data": {
      "text/plain": [
       "(4, 2)"
      ]
     },
     "execution_count": 36,
     "metadata": {},
     "output_type": "execute_result"
    }
   ],
   "source": [
    "#Mode program\n",
    "n = [1,3,4,4,2,2]\n",
    "def calculate_mode(list_of_numbers):\n",
    "    counter = {}\n",
    "    for i in list_of_numbers:\n",
    "        if i in counter:\n",
    "            counter[i]+=1\n",
    "        else:\n",
    "            counter[i] = 1\n",
    "    key_max = sorted(counter, key=counter.get, reverse=True)[:1][0]\n",
    "    frequency = counter[key_max]\n",
    "    return key_max, frequency\n",
    " \n",
    "calculate_mode(n)"
   ]
  },
  {
   "cell_type": "code",
   "execution_count": 39,
   "id": "75c60d61",
   "metadata": {},
   "outputs": [
    {
     "name": "stdout",
     "output_type": "stream",
     "text": [
      "Enter the number of element to the list:5\n",
      "Enter the elements:5\n",
      "Enter the elements:6\n",
      "Enter the elements:6\n",
      "Enter the elements:7\n",
      "Enter the elements:7\n",
      "List elements are: [5, 6, 6, 7, 7]\n",
      "Mode: [6, 7]\n"
     ]
    }
   ],
   "source": [
    "#Mode program without using built-in function\n",
    "list1=[]\n",
    "uv=[]\n",
    "mode=[]\n",
    "n= int(input(\"Enter the number of element to the list:\"))\n",
    "for i in range(n):\n",
    "    list1.append(int(input(\"Enter the elements:\")))\n",
    "print(\"List elements are:\",list1)\n",
    "for ele in list1:\n",
    "    if ele not in uv:\n",
    "        uv.append(ele)\n",
    "    else:\n",
    "        mode.append(ele)\n",
    "counter=0\n",
    "nums=[]\n",
    "for ele in mode:\n",
    "    currentCount= mode.count(ele)\n",
    "    if currentCount>counter:\n",
    "        counter=currentCount\n",
    "        nums=[ele]\n",
    "    elif currentCount==counter: \n",
    "        nums.append(ele)\n",
    "print(\"Mode:\",nums)\n",
    "            "
   ]
  },
  {
   "cell_type": "code",
   "execution_count": null,
   "id": "5a679c0b",
   "metadata": {},
   "outputs": [],
   "source": []
  }
 ],
 "metadata": {
  "kernelspec": {
   "display_name": "Python 3 (ipykernel)",
   "language": "python",
   "name": "python3"
  },
  "language_info": {
   "codemirror_mode": {
    "name": "ipython",
    "version": 3
   },
   "file_extension": ".py",
   "mimetype": "text/x-python",
   "name": "python",
   "nbconvert_exporter": "python",
   "pygments_lexer": "ipython3",
   "version": "3.9.13"
  }
 },
 "nbformat": 4,
 "nbformat_minor": 5
}
