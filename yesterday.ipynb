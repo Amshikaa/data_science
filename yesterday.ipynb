{
 "cells": [
  {
   "cell_type": "code",
   "execution_count": 3,
   "id": "b1ce83f8",
   "metadata": {},
   "outputs": [
    {
     "name": "stdout",
     "output_type": "stream",
     "text": [
      "Enter number of elements :: 5\n",
      "Enter a number :: 2\n",
      "Enter a number :: 3\n",
      "Enter a number :: 2\n",
      "Enter a number :: 2\n",
      "Enter a number :: 6\n",
      "The list is: [2, 3, 2, 2, 6]\n",
      "Mode ::  [2]\n"
     ]
    }
   ],
   "source": [
    "list1 = []\n",
    "n = int(input(\"Enter number of elements :: \"))\n",
    "for i in range(n) :\n",
    "    list1.append(int(input(\"Enter a number :: \")))\n",
    "print(\"The list is:\",list1)    \n",
    "unq_list =[]\n",
    "mode=[]\n",
    "for ele in list1:\n",
    "    if ele not in unq_list:\n",
    "        unq_list.append(ele)\n",
    "    else:\n",
    "        mode.append(ele)\n",
    "max_counter = 0\n",
    "mode_list=[]\n",
    "for ele in mode:\n",
    "    currentCount = mode_list.count(ele)\n",
    "    if currentCount > max_counter:\n",
    "        max_counter = currentCount\n",
    "        mode_list = [ele]\n",
    "    elif currentCount == max_counter:\n",
    "        mode_list.append(ele)\n",
    "print(\"Mode :: \", mode_list)\n",
    "    "
   ]
  },
  {
   "cell_type": "code",
   "execution_count": 9,
   "id": "3c92ebb5",
   "metadata": {},
   "outputs": [
    {
     "name": "stdout",
     "output_type": "stream",
     "text": [
      "Enter the number of elements ::5\n"
     ]
    },
    {
     "ename": "TypeError",
     "evalue": "'int' object is not callable",
     "output_type": "error",
     "traceback": [
      "\u001b[1;31m---------------------------------------------------------------------------\u001b[0m",
      "\u001b[1;31mTypeError\u001b[0m                                 Traceback (most recent call last)",
      "Cell \u001b[1;32mIn[9], line 7\u001b[0m\n\u001b[0;32m      5\u001b[0m list1 \u001b[38;5;241m=\u001b[39m []\n\u001b[0;32m      6\u001b[0m n\u001b[38;5;241m=\u001b[39m\u001b[38;5;28mint\u001b[39m(\u001b[38;5;28minput\u001b[39m(\u001b[38;5;124m\"\u001b[39m\u001b[38;5;124mEnter the number of elements ::\u001b[39m\u001b[38;5;124m\"\u001b[39m))\n\u001b[1;32m----> 7\u001b[0m \u001b[38;5;28;01mfor\u001b[39;00m i \u001b[38;5;129;01min\u001b[39;00m \u001b[38;5;28mrange\u001b[39m(n):\n\u001b[0;32m      8\u001b[0m     ele \u001b[38;5;241m=\u001b[39m \u001b[38;5;28mint\u001b[39m(\u001b[38;5;28minput\u001b[39m(\u001b[38;5;124m\"\u001b[39m\u001b[38;5;124mEnter the elements ::\u001b[39m\u001b[38;5;124m\"\u001b[39m))\n\u001b[0;32m      9\u001b[0m list1\u001b[38;5;241m.\u001b[39mappend(ele)\n",
      "\u001b[1;31mTypeError\u001b[0m: 'int' object is not callable"
     ]
    }
   ],
   "source": [
    "#python program to find range, variance, standard deviation and interquartile range\n",
    "\n",
    "import numpy as np\n",
    "from scipy import stats\n",
    "list1 = []\n",
    "n=int(input(\"Enter the number of elements ::\"))\n",
    "for i in range(n):\n",
    "    ele = int(input(\"Enter the elements ::\"))\n",
    "list1.append(ele)\n",
    "print(\"List elements are\\n\", list1) \n",
    "\n",
    "maxElement = minElement = list1[0]\n",
    "for ele in list1:\n",
    "    if ele > maxElement:\n",
    "        maxElement = ele\n",
    "    if ele < minElement:\n",
    "        minElement = ele\n",
    "range = maxElement - minElement\n",
    "print(\"Range:\",range)\n",
    "\n",
    "total = 0\n",
    "for ele in list1:\n",
    "    total += ele\n",
    "mean = total / len(list1)\n",
    "sumValue = 0\n",
    "for i in list1:\n",
    "    sumValue += (i - mean) ** 2\n",
    "variance = sumValue / len(list1)\n",
    "print(\"variance:\",variance)\n",
    "\n",
    "std=variance**0.5\n",
    "print(\"sd\",std)\n",
    "\n",
    "Q3,Q1=np.percentile(list1,[75,25],interpolation=\"midpoint\")\n",
    "IQR = Q3 - Q1\n",
    "print(\"IQR:\",IQR)"
   ]
  },
  {
   "cell_type": "code",
   "execution_count": 1,
   "id": "a2334c7e",
   "metadata": {},
   "outputs": [
    {
     "name": "stdout",
     "output_type": "stream",
     "text": [
      "Enter the number of elements ::5\n",
      "Enter the elements ::2\n",
      "Enter the elements ::3\n",
      "Enter the elements ::4\n",
      "Enter the elements ::6\n",
      "Enter the elements ::7\n",
      "List elements are\n",
      " [2, 3, 4, 6, 7]\n",
      "Range: 5\n",
      "variance: 3.44\n",
      "sd 1.8547236990991407\n",
      "IQR: 3.0\n"
     ]
    },
    {
     "name": "stderr",
     "output_type": "stream",
     "text": [
      "C:\\Users\\amshi\\AppData\\Local\\Temp\\ipykernel_5528\\1250344615.py:35: DeprecationWarning: the `interpolation=` argument to percentile was renamed to `method=`, which has additional options.\n",
      "Users of the modes 'nearest', 'lower', 'higher', or 'midpoint' are encouraged to review the method they used. (Deprecated NumPy 1.22)\n",
      "  Q3,Q1=np.percentile(list1,[75,25],interpolation=\"midpoint\")\n"
     ]
    }
   ],
   "source": [
    "#python program to find range, variance, standard deviation and interquartile range\n",
    "\n",
    "import numpy as np\n",
    "from scipy import stats\n",
    "import math\n",
    "list1 = []\n",
    "n=int(input(\"Enter the number of elements ::\"))\n",
    "for i in range(n):\n",
    "    ele = int(input(\"Enter the elements ::\"))\n",
    "    list1.append(ele)\n",
    "print(\"List elements are\\n\", list1) \n",
    "\n",
    "maxElement = minElement = list1[0]\n",
    "for ele in list1:\n",
    "    if ele > maxElement:\n",
    "        maxElement = ele\n",
    "    if ele < minElement:\n",
    "        minElement = ele\n",
    "range = maxElement - minElement\n",
    "print(\"Range:\",range)\n",
    "\n",
    "total = 0\n",
    "for ele in list1:\n",
    "    total += ele\n",
    "mean = total / len(list1)\n",
    "sumValue = 0\n",
    "for i in list1:\n",
    "    sumValue += (i - mean) ** 2\n",
    "variance = sumValue / len(list1)\n",
    "print(\"variance:\",variance)\n",
    "\n",
    "std=variance**0.5\n",
    "print(\"sd\",std)\n",
    "\n",
    "Q3,Q1=np.percentile(list1,[75,25],interpolation=\"midpoint\")\n",
    "IQR = Q3 - Q1\n",
    "print(\"IQR:\",IQR)"
   ]
  },
  {
   "cell_type": "code",
   "execution_count": null,
   "id": "88037b40",
   "metadata": {},
   "outputs": [],
   "source": []
  }
 ],
 "metadata": {
  "kernelspec": {
   "display_name": "Python 3 (ipykernel)",
   "language": "python",
   "name": "python3"
  },
  "language_info": {
   "codemirror_mode": {
    "name": "ipython",
    "version": 3
   },
   "file_extension": ".py",
   "mimetype": "text/x-python",
   "name": "python",
   "nbconvert_exporter": "python",
   "pygments_lexer": "ipython3",
   "version": "3.11.5"
  }
 },
 "nbformat": 4,
 "nbformat_minor": 5
}
