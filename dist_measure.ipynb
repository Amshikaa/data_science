{
 "cells": [
  {
   "cell_type": "code",
   "execution_count": 1,
   "id": "6f34d69e",
   "metadata": {},
   "outputs": [
    {
     "name": "stdout",
     "output_type": "stream",
     "text": [
      "Dataset loaded successfully:\n",
      "   area  bedrooms  age   price\n",
      "0  2600       3.0   20  550000\n",
      "1  3000       4.0   15  565000\n",
      "2  3200       NaN   18  610000\n",
      "3  3600       3.0   30  595000\n",
      "4  4000       5.0    8  760000\n",
      "5  4100       6.0    8  810000\n",
      "\n",
      "Select a distance measure:\n",
      "1. Euclidean\n",
      "2. Manhattan\n",
      "3. Cosine Similarity\n",
      "Enter the index or name of the distance measure: 1\n",
      "Enter index of the first instance (0 to 5): 0\n",
      "Enter index of the second instance (0 to 5): 1\n",
      "Euclidean distance between instance 0 and instance 1: 400.03249867979474\n"
     ]
    }
   ],
   "source": [
    "import pandas as pd\n",
    "import numpy as np\n",
    "\n",
    "def euclidean_distance(instance1, instance2):\n",
    "    return np.linalg.norm(instance1 - instance2)\n",
    "\n",
    "def manhattan_distance(instance1, instance2):\n",
    "    return np.sum(np.abs(instance1 - instance2))\n",
    "\n",
    "def cosine_similarity(instance1, instance2):\n",
    "    dot_product = np.dot(instance1, instance2)\n",
    "    norm1 = np.linalg.norm(instance1)\n",
    "    norm2 = np.linalg.norm(instance2)\n",
    "    return dot_product / (norm1 * norm2)\n",
    "\n",
    "file_path = 'homeprices.csv' \n",
    "df = pd.read_csv(file_path)\n",
    "\n",
    "print(\"Dataset loaded successfully:\")\n",
    "print(df)\n",
    "\n",
    "distance_measures = {\n",
    "    \"1\": (\"Euclidean\", euclidean_distance),\n",
    "    \"2\": (\"Manhattan\", manhattan_distance),\n",
    "    \"3\": (\"Cosine Similarity\", cosine_similarity)\n",
    "}\n",
    "\n",
    "print(\"\\nSelect a distance measure:\")\n",
    "for key, (measure_name, _) in distance_measures.items():\n",
    "    print(f\"{key}. {measure_name}\")\n",
    "\n",
    "selected_measure_name = input(\"Enter the index or name of the distance measure: \")\n",
    "\n",
    "if selected_measure_name in distance_measures:\n",
    "    selected_measure= distance_measures[selected_measure_name][1]  \n",
    "    selected_measure_name = distance_measures[selected_measure_name][0]  \n",
    "else:\n",
    "    print(\"Invalid distance measure selection. Please choose from the available options.\")\n",
    "    exit()\n",
    "\n",
    "index1 = int(input(f\"Enter index of the first instance (0 to {len(df)-1}): \"))\n",
    "index2 = int(input(f\"Enter index of the second instance (0 to {len(df)-1}): \"))\n",
    "\n",
    "if 0 <= index1 < len(df) and 0 <= index2 < len(df):\n",
    "    instance1 = df.iloc[index1, :-1].values  \n",
    "    instance2 = df.iloc[index2, :-1].values \n",
    "    \n",
    "    distance = selected_measure(instance1, instance2)\n",
    "    print(f\"{selected_measure_name} distance between instance {index1} and instance {index2}: {distance}\")\n",
    "else:\n",
    "    print(f\"Invalid indices. Please enter indices between 0 and {len(df)-1}.\")\n"
   ]
  },
  {
   "cell_type": "code",
   "execution_count": null,
   "id": "7bc1d298",
   "metadata": {},
   "outputs": [],
   "source": []
  },
  {
   "cell_type": "code",
   "execution_count": null,
   "id": "db1dfcbc",
   "metadata": {},
   "outputs": [],
   "source": []
  }
 ],
 "metadata": {
  "kernelspec": {
   "display_name": "Python 3 (ipykernel)",
   "language": "python",
   "name": "python3"
  },
  "language_info": {
   "codemirror_mode": {
    "name": "ipython",
    "version": 3
   },
   "file_extension": ".py",
   "mimetype": "text/x-python",
   "name": "python",
   "nbconvert_exporter": "python",
   "pygments_lexer": "ipython3",
   "version": "3.11.5"
  }
 },
 "nbformat": 4,
 "nbformat_minor": 5
}
