{
 "cells": [
  {
   "cell_type": "code",
   "execution_count": 60,
   "id": "75131057",
   "metadata": {},
   "outputs": [
    {
     "name": "stdout",
     "output_type": "stream",
     "text": [
      "enter the number of elements6\n",
      "enter t1he elements :110\n",
      "enter t1he elements :150\n",
      "enter t1he elements :180\n",
      "enter t1he elements :200\n",
      "enter t1he elements :300\n",
      "enter t1he elements :320\n",
      "the created list is [110, 150, 180, 200, 300, 320]\n"
     ]
    }
   ],
   "source": [
    "#range\n",
    "data=[]\n",
    "n=int(input(\"enter the number of elements\"))\n",
    "for i in range(0,n):\n",
    "    ele=int(input(\"enter t1he elements :\"))\n",
    "    data.append(ele)\n",
    "print(\"the created list is\",data)"
   ]
  },
  {
   "cell_type": "code",
   "execution_count": 61,
   "id": "d5769fd2",
   "metadata": {},
   "outputs": [
    {
     "name": "stdout",
     "output_type": "stream",
     "text": [
      "range (without function): 210\n"
     ]
    }
   ],
   "source": [
    "#range without function\n",
    "minimum = maximum = data[0]\n",
    "for num in data:\n",
    "    if num <= minimum:\n",
    "        minimum = num\n",
    "    if num >= maximum:\n",
    "        maximum = num\n",
    "range_value = maximum - minimum\n",
    "print(\"range (without function):\", range_value)"
   ]
  },
  {
   "cell_type": "code",
   "execution_count": 62,
   "id": "a4ad681d",
   "metadata": {},
   "outputs": [
    {
     "name": "stdout",
     "output_type": "stream",
     "text": [
      "range(with function) 210\n"
     ]
    }
   ],
   "source": [
    "#range with function\n",
    "import numpy as np\n",
    "min=np.min(data)\n",
    "max=np.max(data)\n",
    "range1=max-min\n",
    "print('range(with function)',range1)"
   ]
  },
  {
   "cell_type": "code",
   "execution_count": 63,
   "id": "91c4b201",
   "metadata": {},
   "outputs": [
    {
     "name": "stdout",
     "output_type": "stream",
     "text": [
      "The variance of the set without functions: 5800.0\n"
     ]
    }
   ],
   "source": [
    "#variance\n",
    "sum1=0\n",
    "for i in data:\n",
    "    sum1=sum1+i\n",
    "    mean=sum1/len(data)\n",
    "\n",
    "#variance without function\n",
    "variance = sum((item - mean) ** 2 for item in data) / (len(data))\n",
    "print(\"The variance of the set without functions:\", variance)"
   ]
  },
  {
   "cell_type": "code",
   "execution_count": 64,
   "id": "e13c4d1c",
   "metadata": {},
   "outputs": [
    {
     "name": "stdout",
     "output_type": "stream",
     "text": [
      "Variance (with function): 5800.0\n"
     ]
    }
   ],
   "source": [
    "#variance with function(numpy)\n",
    "import numpy as np\n",
    "print(\"Variance (with function):\", np.var(data))"
   ]
  },
  {
   "cell_type": "code",
   "execution_count": 65,
   "id": "019b7327",
   "metadata": {},
   "outputs": [
    {
     "name": "stdout",
     "output_type": "stream",
     "text": [
      "The standard deviation without using function is: 76.15773105863909\n",
      "standard deviation (with function): 76.15773105863909\n"
     ]
    }
   ],
   "source": [
    "#standard deviation\n",
    "std = variance ** 0.5\n",
    "print(\"The standard deviation without using function is:\", std)\n",
    "\n",
    "# Using the numpy function\n",
    "import numpy as np\n",
    "print(\"standard deviation (with function):\", np.std(data))"
   ]
  },
  {
   "cell_type": "code",
   "execution_count": 66,
   "id": "fc1b4b6a",
   "metadata": {},
   "outputs": [
    {
     "name": "stdout",
     "output_type": "stream",
     "text": [
      "The standard deviation without using function is: 76.15773105863909\n"
     ]
    }
   ],
   "source": [
    "std =math.sqrt(variance)\n",
    "print(\"The standard deviation without using function is:\", std)"
   ]
  },
  {
   "cell_type": "code",
   "execution_count": 67,
   "id": "871c0cc5",
   "metadata": {},
   "outputs": [
    {
     "name": "stdout",
     "output_type": "stream",
     "text": [
      "IQR without using function: 85.0\n",
      "IQR using function: 85.0\n"
     ]
    }
   ],
   "source": [
    "#IQR\n",
    "import numpy as np\n",
    "from scipy import stats\n",
    "\n",
    "#IQR without using function\n",
    "q3, q1 = np.percentile(data, [75, 25], interpolation='midpoint')\n",
    "iqr = q3 - q1\n",
    "print(\"IQR without using function:\", iqr)\n",
    "\n",
    "#IQR using function\n",
    "IQR = stats.iqr(data, interpolation='midpoint')\n",
    "print(\"IQR using function:\", IQR)"
   ]
  },
  {
   "cell_type": "code",
   "execution_count": null,
   "id": "5f26ba54",
   "metadata": {},
   "outputs": [],
   "source": []
  }
 ],
 "metadata": {
  "kernelspec": {
   "display_name": "Python 3 (ipykernel)",
   "language": "python",
   "name": "python3"
  },
  "language_info": {
   "codemirror_mode": {
    "name": "ipython",
    "version": 3
   },
   "file_extension": ".py",
   "mimetype": "text/x-python",
   "name": "python",
   "nbconvert_exporter": "python",
   "pygments_lexer": "ipython3",
   "version": "3.9.13"
  }
 },
 "nbformat": 4,
 "nbformat_minor": 5
}
